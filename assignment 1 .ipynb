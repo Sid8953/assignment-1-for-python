{
 "cells": [
  {
   "cell_type": "code",
   "execution_count": 8,
   "id": "366e3316-e5ab-4ba5-b2fd-02d820d5898c",
   "metadata": {},
   "outputs": [
    {
     "data": {
      "text/plain": [
       "'3.10.8 | packaged by conda-forge | (main, Nov 22 2022, 08:26:04) [GCC 10.4.0]'"
      ]
     },
     "execution_count": 8,
     "metadata": {},
     "output_type": "execute_result"
    }
   ],
   "source": [
    "# # ans1 =\n",
    " python programming language is developed by Guido Van Rassum.\n",
    "# # ans2=\n",
    "python support multiple programming paradigms include oops and functional.\n",
    "# # ans3 =\n",
    "  yes, python is case senstive when dealind with identifiers.\n",
    "# # ans 4=\n",
    "  the correct extension for python file is .py .\n",
    "# # ans 5 =\n",
    "  python is interpreted language.\n",
    "# # ans 7=\n",
    "  a character for single line comments is # \n",
    "# # ans 8\n",
    "import sys\n",
    "sys.version\n",
    "# #ans 9=\n",
    " lambda\n",
    "# #ans 10=\n",
    "    pip is package management system used to install libraries in python .\n",
    "# #ans 11\n",
    "  few in built functions are print() , len() ,range() ,etc.\n",
    "# #ans 12\n",
    "  the maximum possible length of an identifiers is 79 caracter.\n",
    "# #ans 13 \n",
    "  some benefits of python are -\n",
    "    1-its vast libraries and tools.\n",
    "    2-its strong community and support.\n",
    "    3-its simplicity and easy of use.\n",
    "# #ans16\n",
    "   yes, identation is requare in python ."
   ]
  },
  {
   "cell_type": "code",
   "execution_count": null,
   "id": "89d18e8b-3bc4-45e6-9b10-015d03aee03f",
   "metadata": {},
   "outputs": [],
   "source": []
  }
 ],
 "metadata": {
  "kernelspec": {
   "display_name": "Python 3 (ipykernel)",
   "language": "python",
   "name": "python3"
  },
  "language_info": {
   "codemirror_mode": {
    "name": "ipython",
    "version": 3
   },
   "file_extension": ".py",
   "mimetype": "text/x-python",
   "name": "python",
   "nbconvert_exporter": "python",
   "pygments_lexer": "ipython3",
   "version": "3.10.8"
  }
 },
 "nbformat": 4,
 "nbformat_minor": 5
}
